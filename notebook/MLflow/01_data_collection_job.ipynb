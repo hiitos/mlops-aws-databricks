{
 "cells": [
  {
   "cell_type": "markdown",
   "metadata": {
    "application/vnd.databricks.v1+cell": {
     "cellMetadata": {},
     "inputWidgets": {},
     "nuid": "4a17a73c-b652-4b69-9320-b3159f920f5e",
     "showTitle": false,
     "title": ""
    }
   },
   "source": [
    "# データ収集ジョブ\n",
    "外部ソースからデータを収集し、S3に保存するジョブ\n"
   ]
  },
  {
   "cell_type": "code",
   "execution_count": null,
   "metadata": {},
   "outputs": [],
   "source": [
    "from sklearn.datasets import load_diabetes\n",
    "import pandas as pd\n",
    "from pyspark.sql import SparkSession\n",
    "\n",
    "# データの読み込み\n",
    "db = load_diabetes()\n",
    "df = pd.DataFrame(data=db.data, columns=db.feature_names)\n",
    "df['target'] = db.target"
   ]
  },
  {
   "cell_type": "code",
   "execution_count": null,
   "metadata": {},
   "outputs": [],
   "source": [
    "df.head(10)"
   ]
  },
  {
   "cell_type": "code",
   "execution_count": null,
   "metadata": {},
   "outputs": [],
   "source": [
    "# SparkSessionを開始\n",
    "spark = SparkSession.builder.appName(\"SaveToDeltaLake\").getOrCreate()\n",
    "\n",
    "# Pandas DataFrameをSpark DataFrameに変換\n",
    "spark_df = spark.createDataFrame(df)\n",
    "\n",
    "# Delta Lake形式でDBFSに保存\n",
    "delta_path = \"/Volumes/databricks_test_ws/main/test-volume/data/raw/diabetes\"\n",
    "# delta_path = \"s3a://your-bucket-name/data/raw/diabetes_data_delta\"\n",
    "spark_df.write.format(\"delta\").mode(\"overwrite\").save(delta_path)"
   ]
  }
 ],
 "metadata": {
  "application/vnd.databricks.v1+notebook": {
   "dashboards": [],
   "environmentMetadata": null,
   "language": "python",
   "notebookMetadata": {
    "pythonIndentUnit": 4
   },
   "notebookName": "01_data_collection_job",
   "widgets": {}
  },
  "language_info": {
   "name": "python"
  }
 },
 "nbformat": 4,
 "nbformat_minor": 0
}
