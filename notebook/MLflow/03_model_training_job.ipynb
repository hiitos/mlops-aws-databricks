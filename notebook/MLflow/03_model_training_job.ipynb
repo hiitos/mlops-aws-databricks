{
 "cells": [
  {
   "cell_type": "code",
   "execution_count": null,
   "metadata": {
    "application/vnd.databricks.v1+cell": {
     "cellMetadata": {},
     "inputWidgets": {},
     "nuid": "0fa35971-77d0-4e5e-9c53-a0729fffa873",
     "showTitle": false,
     "title": ""
    }
   },
   "outputs": [],
   "source": [
    "import mlflow\n",
    "import mlflow.sklearn\n",
    "# import mlflow.lightgbm\n",
    "import pandas as pd\n",
    "import matplotlib.pyplot as plt\n",
    "\n",
    "from numpy import savetxt\n",
    "\n",
    "from sklearn.model_selection import train_test_split\n",
    "from sklearn.datasets import load_diabetes\n",
    "\n",
    "from sklearn.ensemble import RandomForestRegressor\n",
    "from sklearn.metrics import mean_squared_error\n",
    "\n",
    "from pyspark.sql import SparkSession\n",
    "import os"
   ]
  },
  {
   "cell_type": "code",
   "execution_count": null,
   "metadata": {},
   "outputs": [],
   "source": [
    "mlflow.sklearn.autolog()\n",
    "# mlflow.lightgbm.autolog()"
   ]
  },
  {
   "cell_type": "code",
   "execution_count": null,
   "metadata": {},
   "outputs": [],
   "source": [
    "# SparkSessionの開始\n",
    "spark = SparkSession.builder.appName(\"ModelTrainingJob\").getOrCreate()\n",
    "\n",
    "# Delta Lake形式のデータをS3から読み込み\n",
    "# processed_delta_path = \"s3a://your-bucket-name/data/processed/diabetes\"\n",
    "processed_delta_path = \"/Volumes/databricks_test_ws/main/test-volume/data/processed/diabetes\"\n",
    "spark_df = spark.read.format(\"delta\").load(processed_delta_path)\n",
    "\n",
    "# Spark DataFrameをPandas DataFrameに変換\n",
    "pdf = spark_df.toPandas()\n",
    "\n",
    "# 特徴量とターゲットの分割\n",
    "X = pdf.drop(\"target\", axis=1)\n",
    "y = pdf[\"target\"]\n",
    "\n",
    "# データセットの分割\n",
    "X_train, X_test, y_train, y_test = train_test_split(X, y, test_size=0.2, random_state=42)\n",
    "\n",
    "output_path = \"/Volumes/databricks_test_ws/main/test-volume/results\"\n",
    "os.makedirs(output_path, exist_ok=True)\n",
    "\n",
    "# MLflowを使用したモデルのトレーニング\n",
    "with mlflow.start_run():\n",
    "    # Set the model parameters. \n",
    "    n_estimators = 100\n",
    "    max_depth = 6\n",
    "    max_features = 3\n",
    "\n",
    "    # モデルの定義とトレーニング\n",
    "    rf_model = RandomForestRegressor(n_estimators = n_estimators, max_depth = max_depth, max_features = max_features, random_state=42)\n",
    "    rf_model.fit(X_train, y_train)\n",
    "    \n",
    "    # 予測と評価\n",
    "    predictions = rf_model.predict(X_test)\n",
    "    mse = mean_squared_error(y_test, predictions)\n",
    "    \n",
    "    # トレーニングパラメータ\n",
    "    mlflow.log_param(\"num_trees\", n_estimators)\n",
    "    mlflow.log_param(\"maxdepth\", max_depth)\n",
    "    mlflow.log_param(\"max_feat\", max_features)\n",
    "\n",
    "    # モデルパラメータとメトリクスのログ\n",
    "    mlflow.log_param(\"n_estimators\", 100)\n",
    "    mlflow.log_metric(\"mse\", mse)\n",
    "    \n",
    "    # モデルの保存\n",
    "    mlflow.sklearn.log_model(rf_model, \"random-forest-model\")\n",
    "\n",
    "    # Save the table of predicted values\n",
    "    savetxt(f\"{output_path}/predictions.csv\", predictions, delimiter=',')\n",
    "    mlflow.log_artifact(f\"{output_path}/predictions.csv\")\n",
    "    \n",
    "    print(f\"Model saved with MSE: {mse}\")\n",
    "\n",
    "    # Convert the residuals to a pandas dataframe to take advantage of graphics capabilities\n",
    "    residuals = pd.DataFrame(data=predictions - y_test)\n",
    "\n",
    "    # Create a plot of residuals\n",
    "    plt.figure(figsize=(10, 6))  # 図のサイズを指定\n",
    "    # plt.plot(residuals, linestyle='-', marker='o', color='b')  # 線とマーカー、色を指定\n",
    "    plt.scatter(range(len(residuals)), residuals, color='b')  # 散布図を作成\n",
    "    plt.xlabel(\"Observation\", fontsize=14)  # フォントサイズを指定\n",
    "    plt.ylabel(\"Residual\", fontsize=14)  # フォントサイズを指定\n",
    "    plt.title(\"Residuals\", fontsize=16)  # フォントサイズを指定\n",
    "    plt.grid(True)  # グリッドを追加\n",
    "    plt.tight_layout()  # レイアウトの調整\n",
    "\n",
    "    # Save the plot and log it as an artifact\n",
    "    plt.savefig(f\"{output_path}/residuals_plot.png\", dpi=300)\n",
    "    mlflow.log_artifact(f\"{output_path}/residuals_plot.png\") "
   ]
  },
  {
   "cell_type": "code",
   "execution_count": null,
   "metadata": {},
   "outputs": [],
   "source": [
    "# モデルのデプロイ\n",
    "model_uri = \"runs:/<run_id>/random-forest-model\"\n",
    "mlflow.register_model(model_uri, \"random-forest-model\")"
   ]
  }
 ],
 "metadata": {
  "application/vnd.databricks.v1+notebook": {
   "dashboards": [],
   "environmentMetadata": null,
   "language": "python",
   "notebookMetadata": {
    "pythonIndentUnit": 4
   },
   "notebookName": "03_model_training_job",
   "widgets": {}
  },
  "language_info": {
   "name": "python"
  }
 },
 "nbformat": 4,
 "nbformat_minor": 0
}
