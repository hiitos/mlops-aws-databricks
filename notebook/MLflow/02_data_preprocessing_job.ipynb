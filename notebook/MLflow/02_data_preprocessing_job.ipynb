{
 "cells": [
  {
   "cell_type": "code",
   "execution_count": null,
   "metadata": {
    "application/vnd.databricks.v1+cell": {
     "cellMetadata": {},
     "inputWidgets": {},
     "nuid": "f0301192-71a4-412e-9e8e-ce60ae4cc974",
     "showTitle": false,
     "title": ""
    }
   },
   "outputs": [],
   "source": [
    "from pyspark.sql import SparkSession\n",
    "from pyspark.sql.functions import col\n",
    "\n",
    "# SparkSessionの開始\n",
    "spark = SparkSession.builder.appName(\"DeltaLakeProcessingJob\").getOrCreate()\n",
    "\n",
    "# Delta Lake形式のデータをS3から読み込む\n",
    "delta_path = \"/Volumes/databricks_test_ws/main/test-volume/data/raw/diabetes\"\n",
    "# delta_path = \"s3a://your-bucket-name/data/raw/diabetes_data_delta\"\n",
    "spark_df = spark.read.format(\"delta\").load(delta_path)\n",
    "\n",
    "# 欠損値の削除\n",
    "spark_df = spark_df.dropna()\n",
    "\n",
    "# 前処理後のデータを再度Delta Lake形式でS3に保存\n",
    "# processed_delta_path = \"s3a://your-bucket-name/data/processed/diabetes\"\n",
    "processed_delta_path = \"/Volumes/databricks_test_ws/main/test-volume/data/processed/diabetes\"\n",
    "spark_df.write.format(\"delta\").mode(\"overwrite\").save(processed_delta_path)\n"
   ]
  }
 ],
 "metadata": {
  "application/vnd.databricks.v1+notebook": {
   "dashboards": [],
   "environmentMetadata": null,
   "language": "python",
   "notebookMetadata": {
    "pythonIndentUnit": 4
   },
   "notebookName": "02_data_preprocessing_job",
   "widgets": {}
  },
  "language_info": {
   "name": "python"
  }
 },
 "nbformat": 4,
 "nbformat_minor": 0
}
