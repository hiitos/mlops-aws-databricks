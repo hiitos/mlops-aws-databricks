{
 "cells": [
  {
   "cell_type": "code",
   "execution_count": null,
   "metadata": {
    "application/vnd.databricks.v1+cell": {
     "cellMetadata": {},
     "inputWidgets": {},
     "nuid": "657e316e-b4e6-40be-924b-a98d9024ade1",
     "showTitle": false,
     "title": ""
    }
   },
   "outputs": [],
   "source": [
    "import mlflow\n",
    "import mlflow.sklearn\n",
    "import pandas as pd\n",
    "from pyspark.sql import SparkSession\n",
    "from pyspark.sql.functions import col\n",
    "\n",
    "# SparkSessionの開始\n",
    "spark = SparkSession.builder.appName(\"PredictionJob\").getOrCreate()\n",
    "\n",
    "# Delta Lake形式の新しいデータをS3から読み込み\n",
    "new_data_delta_path = \"/Volumes/databricks_test_ws/main/test-volume/data/new/diabetes\"\n",
    "new_data_spark_df = spark.read.format(\"delta\").load(new_data_delta_path)\n",
    "\n",
    "# Spark DataFrameをPandas DataFrameに変換\n",
    "new_data_pdf = new_data_spark_df.toPandas()\n",
    "\n",
    "# 特徴量の抽出\n",
    "X_new = new_data_pdf.drop(\"target\", axis=1, errors='ignore')  # 予測対象のデータにはtargetがない可能性があるのでerrors='ignore'を追加\n",
    "\n",
    "# MLflowに保存されたモデルをロード\n",
    "model_uri = \"models:/random-forest-model/Production\"  # モデルのURIを指定\n",
    "rf_model = mlflow.sklearn.load_model(model_uri)\n",
    "\n",
    "# 新しいデータに対する予測\n",
    "predictions = rf_model.predict(X_new)\n",
    "\n",
    "# 予測結果を保存\n",
    "new_data_pdf['predictions'] = predictions\n",
    "predictions_delta_path = \"/Volumes/databricks_test_ws/main/test-volume/data/predictions/diabetes\"\n",
    "predictions_spark_df = spark.createDataFrame(new_data_pdf)\n",
    "predictions_spark_df.write.format(\"delta\").mode(\"overwrite\").save(predictions_delta_path)\n",
    "\n",
    "# 予測結果を表示\n",
    "predictions_spark_df.show()\n"
   ]
  }
 ],
 "metadata": {
  "application/vnd.databricks.v1+notebook": {
   "dashboards": [],
   "environmentMetadata": null,
   "language": "python",
   "notebookMetadata": {
    "pythonIndentUnit": 4
   },
   "notebookName": "04_model_deployment_job",
   "widgets": {}
  },
  "language_info": {
   "name": "python"
  }
 },
 "nbformat": 4,
 "nbformat_minor": 0
}
