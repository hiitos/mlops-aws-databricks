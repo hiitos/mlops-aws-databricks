{
 "cells": [
  {
   "cell_type": "code",
   "execution_count": null,
   "metadata": {
    "application/vnd.databricks.v1+cell": {
     "cellMetadata": {},
     "inputWidgets": {},
     "nuid": "222a1cdd-1eca-464b-a947-56a69a2b4464",
     "showTitle": false,
     "title": ""
    }
   },
   "outputs": [],
   "source": [
    "csv_path = \"/Volumes/databricks_test_ws/main/test-volume/babynames.csv\"\n",
    "default_year = dbutils.widgets.get(\"default_year\")\n",
    "\n",
    "# CSVファイルの読み込み\n",
    "babynames = spark.read.format(\"csv\").option(\"header\", \"true\").option(\"inferSchema\", \"true\").load(csv_path)\n",
    "\n",
    "# 一時テーブルの作成\n",
    "babynames.createOrReplaceTempView(\"babynames_table\")\n",
    "\n",
    "# 年のリストを取得してソート\n",
    "years = spark.sql(\"select distinct(Year) from babynames_table\").toPandas()['Year'].tolist()\n",
    "years.sort()\n",
    "\n",
    "# ドロップダウンウィジェットの作成\n",
    "dbutils.widgets.dropdown(\"year\", default_year, [str(x) for x in years])\n",
    "\n",
    "# 選択された年のデータを表示\n",
    "display(babynames.filter(babynames.Year == dbutils.widgets.get(\"year\")))\n",
    "\n",
    "# フィルタリングされたデータをS3に保存\n",
    "# output_path = \"s3://<your-s3-bucket>/babynames_filtered.csv\"\n",
    "# filtered_data.write.mode(\"overwrite\").csv(output_path)\n"
   ]
  }
 ],
 "metadata": {
  "application/vnd.databricks.v1+notebook": {
   "dashboards": [],
   "environmentMetadata": null,
   "language": "python",
   "notebookMetadata": {
    "pythonIndentUnit": 4
   },
   "notebookName": "display_babynames_by_year",
   "widgets": {}
  },
  "language_info": {
   "name": "python"
  }
 },
 "nbformat": 4,
 "nbformat_minor": 0
}
